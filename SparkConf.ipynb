{
 "cells": [
  {
   "cell_type": "code",
   "execution_count": 32,
   "metadata": {},
   "outputs": [
    {
     "name": "stdout",
     "output_type": "stream",
     "text": [
      "2020-07-19 22:32:43 WARN  Utils:66 - Service 'SparkUI' could not bind on port 4040. Attempting port 4041.\r\n"
     ]
    },
    {
     "data": {
      "text/plain": [
       "conf: org.apache.spark.SparkConf = org.apache.spark.SparkConf@3cdc791d\r\n",
       "sc: org.apache.spark.SparkContext = org.apache.spark.SparkContext@79c401d3\r\n",
       "data: org.apache.spark.rdd.RDD[String] = C:\\Users\\welcome\\Documents\\Snow.txt MapPartitionsRDD[1] at textFile at <console>:42\r\n",
       "wordData: org.apache.spark.rdd.RDD[String] = MapPartitionsRDD[2] at flatMap at <console>:44\r\n",
       "wordCountData: Int = 28\n"
      ]
     },
     "execution_count": 32,
     "metadata": {},
     "output_type": "execute_result"
    }
   ],
   "source": [
    "val conf = new SparkConf().setAppName(\"Test\")\n",
    "//create spark context object\n",
    "val sc = new SparkContext(conf)\n",
    "\n",
    "//Read file and create RDD\n",
    "val data = sc.textFile(\"file.txt\")\n",
    "//convert the lines into words using flatMap operation\n",
    "val wordData = data.flatMap(line => line.split(\" \"))\n",
    "//count the individual words using map and reduceByKey operation\n",
    "val wordCountData = wordData.map(word => (word, 1)).reduceByKey(_ + _).collect.length\n",
    "//stop the spark context\n",
    "sc.stop"
   ]
  }
 ],
 "metadata": {
  "kernelspec": {
   "display_name": "spylon-kernel",
   "language": "scala",
   "name": "spylon-kernel"
  },
  "language_info": {
   "codemirror_mode": "text/x-scala",
   "file_extension": ".scala",
   "help_links": [
    {
     "text": "MetaKernel Magics",
     "url": "https://metakernel.readthedocs.io/en/latest/source/README.html"
    }
   ],
   "mimetype": "text/x-scala",
   "name": "scala",
   "pygments_lexer": "scala",
   "version": "0.4.1"
  }
 },
 "nbformat": 4,
 "nbformat_minor": 2
}
