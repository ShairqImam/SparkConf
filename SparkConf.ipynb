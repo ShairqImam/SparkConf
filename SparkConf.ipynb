{
 "cells": [
  {
   "cell_type": "code",
   "execution_count": 33,
   "metadata": {},
   "outputs": [],
   "source": [
    "val conf = new SparkConf().setAppName(\"Test\")\n",
    "//create spark context object\n",
    "val sc = new SparkContext(conf)\n",
    "\n",
    "//Read file and create RDD\n",
    "val data = sc.textFile(\"file.txt\")\n",
    "//convert the lines into words using flatMap operation\n",
    "val wordData = data.flatMap(line => line.split(\" \"))\n",
    "//count the individual words using map and reduceByKey operation\n",
    "val wordCountData = wordData.map(word => (word, 1)).reduceByKey(_ + _).collect.length\n",
    "//stop the spark context\n",
    "sc.stop"
   ]
  }
 ],
 "metadata": {
  "kernelspec": {
   "display_name": "spylon-kernel",
   "language": "scala",
   "name": "spylon-kernel"
  },
  "language_info": {
   "codemirror_mode": "text/x-scala",
   "file_extension": ".scala",
   "help_links": [
    {
     "text": "MetaKernel Magics",
     "url": "https://metakernel.readthedocs.io/en/latest/source/README.html"
    }
   ],
   "mimetype": "text/x-scala",
   "name": "scala",
   "pygments_lexer": "scala",
   "version": "0.4.1"
  }
 },
 "nbformat": 4,
 "nbformat_minor": 2
}
